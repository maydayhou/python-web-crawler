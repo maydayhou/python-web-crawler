{
 "cells": [
  {
   "cell_type": "code",
   "execution_count": 1,
   "metadata": {},
   "outputs": [],
   "source": [
    "import urllib.parse\n",
    "import json\n",
    "import ssl\n",
    "import urllib.request\n",
    "import requests\n",
    "import pymysql\n",
    "import time\n",
    "import random"
   ]
  },
  {
   "cell_type": "code",
   "execution_count": 2,
   "metadata": {},
   "outputs": [],
   "source": [
    "ssl._create_default_https_context = ssl._create_unverified_context"
   ]
  },
  {
   "cell_type": "code",
   "execution_count": 6,
   "metadata": {},
   "outputs": [],
   "source": [
    "headers = {\n",
    "    'path':'/api/v2/products/97abd082-288d-47e1-9cad-13110774933d/activity?country=CN&currency=USD&limit=40&order=DESC&page=2&sort=createdAt&state=480',\n",
    "    'authority':'gateway.stockx.com',\n",
    "    'accept':'*/*',\n",
    "    'x-session-id':'4c1077a0-b9cf-4b0a-830a-bed49b941fda',\n",
    "    'x-anonymous-id':'a8ac92bf-b8c7-455e-801b-80992c98fa22',\n",
    "    'app-version':'5.0.0.29506',\n",
    "    'app-platform':'ios',\n",
    "    'app-name':'StockX-iOS',\n",
    "    'accept-language':'en-US',\n",
    "    'x-api-key':'99WtRZK6pS1Fqt8hXBfWq8BYQjErmwipa3a0hYxX',\n",
    "    'accept-encoding':'gzip, deflate, br',\n",
    "    'user-agent':'StockX/29506 CFNetwork/1121.2.2 Darwin/19.2.0',\n",
    "    'cookie':'_pxhd=de9dfee0bc3ec6018552feab1c2271b8e009f51a5169668b71a137725dc5c15f:0aa82db1-44fd-11ea-84ef-8752dcb5c6fc; __cfduid=d95af1d3b7f0ffb42a77a3b5b92c311e61580565292'\n",
    "}\n",
    "\n",
    "url = \"https://gateway.stockx.com/api/v2/products/97abd082-288d-47e1-9cad-13110774933d/activity?country=CN&currency=USD&limit=40&order=DESC&page=1230&sort=createdAt&state=480\"\n",
    "\n",
    "html = requests.get(url, headers=headers)\n",
    "\n",
    "#48927"
   ]
  },
  {
   "cell_type": "code",
   "execution_count": 7,
   "metadata": {},
   "outputs": [
    {
     "data": {
      "text/plain": [
       "{'ProductActivity': [{'chainId': '13183462016840198922',\n",
       "   'amount': 349,\n",
       "   'createdAt': '2019-10-22T01:57:23+00:00',\n",
       "   'shoeSize': '8',\n",
       "   'productId': None,\n",
       "   'skuUuid': '7ecada81-eb4d-4be0-9211-2080687981ab',\n",
       "   'state': '480',\n",
       "   'customerId': None,\n",
       "   'localAmount': 349,\n",
       "   'localCurrency': 'USD'},\n",
       "  {'chainId': '13183462390463802511',\n",
       "   'amount': 345,\n",
       "   'createdAt': '2019-10-22T01:56:55+00:00',\n",
       "   'shoeSize': '9.5',\n",
       "   'productId': None,\n",
       "   'skuUuid': '7edce7e6-14bd-4f9b-ac84-2a9a93019edf',\n",
       "   'state': '480',\n",
       "   'customerId': None,\n",
       "   'localAmount': 345,\n",
       "   'localCurrency': 'USD'},\n",
       "  {'chainId': '13182842837458366048',\n",
       "   'amount': 288,\n",
       "   'createdAt': '2019-10-20T14:48:10+00:00',\n",
       "   'shoeSize': '8',\n",
       "   'productId': None,\n",
       "   'skuUuid': '7ecada81-eb4d-4be0-9211-2080687981ab',\n",
       "   'state': '480',\n",
       "   'customerId': None,\n",
       "   'localAmount': 288,\n",
       "   'localCurrency': 'USD'},\n",
       "  {'chainId': '13182198302329363767',\n",
       "   'amount': 325,\n",
       "   'createdAt': '2019-10-19T17:00:54+00:00',\n",
       "   'shoeSize': '11.5',\n",
       "   'productId': None,\n",
       "   'skuUuid': 'a772f110-8392-4bf8-a170-12fc1a06945d',\n",
       "   'state': '480',\n",
       "   'customerId': None,\n",
       "   'localAmount': 325,\n",
       "   'localCurrency': 'USD'},\n",
       "  {'chainId': '13180671007356083305',\n",
       "   'amount': 311,\n",
       "   'createdAt': '2019-10-16T20:40:31+00:00',\n",
       "   'shoeSize': '13',\n",
       "   'productId': None,\n",
       "   'skuUuid': 'b5b92a8a-7876-4bec-a5de-b88199b0a353',\n",
       "   'state': '480',\n",
       "   'customerId': None,\n",
       "   'localAmount': 311,\n",
       "   'localCurrency': 'USD'},\n",
       "  {'chainId': '13180109704829590429',\n",
       "   'amount': 300,\n",
       "   'createdAt': '2019-10-16T02:05:18+00:00',\n",
       "   'shoeSize': '10.5',\n",
       "   'productId': None,\n",
       "   'skuUuid': '52eebd2b-bee0-42ce-9809-192868e17d93',\n",
       "   'state': '480',\n",
       "   'customerId': None,\n",
       "   'localAmount': 300,\n",
       "   'localCurrency': 'USD'},\n",
       "  {'chainId': '13180077492205395969',\n",
       "   'amount': 300,\n",
       "   'createdAt': '2019-10-16T01:01:19+00:00',\n",
       "   'shoeSize': '10',\n",
       "   'productId': None,\n",
       "   'skuUuid': 'f5e9f254-27a6-4952-9c11-69cf1df45bbd',\n",
       "   'state': '480',\n",
       "   'customerId': None,\n",
       "   'localAmount': 300,\n",
       "   'localCurrency': 'USD'},\n",
       "  {'chainId': '13180076993186354406',\n",
       "   'amount': 350,\n",
       "   'createdAt': '2019-10-16T01:00:19+00:00',\n",
       "   'shoeSize': '13',\n",
       "   'productId': None,\n",
       "   'skuUuid': 'b5b92a8a-7876-4bec-a5de-b88199b0a353',\n",
       "   'state': '480',\n",
       "   'customerId': None,\n",
       "   'localAmount': 350,\n",
       "   'localCurrency': 'USD'}],\n",
       " 'Pagination': {'limit': 40,\n",
       "  'page': 1230,\n",
       "  'total': 49168,\n",
       "  'sort': ['createdAt'],\n",
       "  'order': ['DESC'],\n",
       "  'lastPage': '/api/v2/products/97abd082-288d-47e1-9cad-13110774933d/activity?country=CN&currency=USD&limit=40&order=DESC&page=1230&sort=createdAt&state=480',\n",
       "  'currentPage': '/api/v2/products/97abd082-288d-47e1-9cad-13110774933d/activity?country=CN&currency=USD&limit=40&order=DESC&page=1230&sort=createdAt&state=480',\n",
       "  'nextPage': None,\n",
       "  'prevPage': '/api/v2/products/97abd082-288d-47e1-9cad-13110774933d/activity?country=CN&currency=USD&limit=40&order=DESC&page=1229&sort=createdAt&state=480'}}"
      ]
     },
     "execution_count": 7,
     "metadata": {},
     "output_type": "execute_result"
    }
   ],
   "source": [
    "with open('user.json', 'w+', encoding='utf8') as f: \n",
    "    data = json.loads(html.text)\n",
    "    f.write(json.dumps(data, ensure_ascii=False))\n",
    "\n",
    "# 3. 读取本地json文件\n",
    "with open('user.json', 'r', encoding='utf8') as f: \n",
    "    content = f.read()\n",
    "\n",
    "# 4. 将json数据解析成字典\n",
    "data = json.loads(content)\n",
    "data  "
   ]
  },
  {
   "cell_type": "code",
   "execution_count": 68,
   "metadata": {},
   "outputs": [
    {
     "data": {
      "text/plain": [
       "dict_keys(['chainId', 'amount', 'createdAt', 'shoeSize', 'productId', 'skuUuid', 'state', 'customerId', 'localAmount', 'localCurrency'])"
      ]
     },
     "execution_count": 68,
     "metadata": {},
     "output_type": "execute_result"
    }
   ],
   "source": [
    "data['ProductActivity'][1].keys()"
   ]
  },
  {
   "cell_type": "code",
   "execution_count": 3,
   "metadata": {},
   "outputs": [],
   "source": [
    "def get_AJ11_trans(a,n):\n",
    "    headers = {\n",
    "    'path':'/api/v2/products/97abd082-288d-47e1-9cad-13110774933d/activity?country=CN&currency=USD&limit=40&order=DESC&page=2&sort=createdAt&state=480',\n",
    "    'authority':'gateway.stockx.com',\n",
    "    'accept':'*/*',\n",
    "    'x-session-id':'4c1077a0-b9cf-4b0a-830a-bed49b941fda',\n",
    "    'x-anonymous-id':'a8ac92bf-b8c7-455e-801b-80992c98fa22',\n",
    "    'app-version':'5.0.0.29506',\n",
    "    'app-platform':'ios',\n",
    "    'app-name':'StockX-iOS',\n",
    "    'accept-language':'en-US',\n",
    "    'x-api-key':'99WtRZK6pS1Fqt8hXBfWq8BYQjErmwipa3a0hYxX',\n",
    "    'accept-encoding':'gzip, deflate, br',\n",
    "    'user-agent':'StockX/29506 CFNetwork/1121.2.2 Darwin/19.2.0',\n",
    "    'cookie':'_pxhd=de9dfee0bc3ec6018552feab1c2271b8e009f51a5169668b71a137725dc5c15f:0aa82db1-44fd-11ea-84ef-8752dcb5c6fc; __cfduid=d95af1d3b7f0ffb42a77a3b5b92c311e61580565292'\n",
    "}\n",
    "    conn = pymysql.connect(host='localhost',port=3306,user='root',password='123456',database='stockx',charset='utf8')\n",
    "    cur = conn.cursor()\n",
    "    for i in range(a,n):\n",
    "        url = 'https://gateway.stockx.com/api/v2/products/97abd082-288d-47e1-9cad-13110774933d/activity?country=CN&currency=USD&limit=40&order=DESC&page='+str(i)+'&sort=createdAt&state=480'\n",
    "        html = requests.get(url, headers=headers)\n",
    "        if html.status_code != 200:\n",
    "            print(\"warning!!!!!\")\n",
    "            break\n",
    "        else:\n",
    "            \n",
    "#         print(html.status_code)\n",
    "            data = json.loads(html.text)\n",
    "    #         detail_list = {'createdAt', 'amount', 'shoeSize'}\n",
    "            for j in range(0,40):\n",
    "    #             p = {key: value for key, value in data['ProductActivity'][j].items() if key in detail_list}\n",
    "    #             print(p)\n",
    "                product = 'AJ11'\n",
    "                amount = data['ProductActivity'][j]['amount'] \n",
    "                trans_time = data['ProductActivity'][j]['createdAt'] \n",
    "                size = data['ProductActivity'][j]['shoeSize'] \n",
    "                cur.execute(\"INSERT INTO aj11_playoff(product,amount,trans_time,size)VALUES('{0}','{1}','{2}','{3}');\".format(product,amount,trans_time,size))\n",
    "                conn.commit()\n",
    "            stop_time = random.randint(3,6)\n",
    "            time.sleep(stop_time)\n",
    "            print(\"page\"+str(i)+\"---\"+\"time stop\"+str(stop_time)+\"s\")\n",
    "    cur.close()\n",
    "    conn.close()"
   ]
  },
  {
   "cell_type": "code",
   "execution_count": 7,
   "metadata": {},
   "outputs": [
    {
     "name": "stdout",
     "output_type": "stream",
     "text": [
      "page1200---time stop4s\n",
      "page1201---time stop3s\n",
      "page1202---time stop6s\n",
      "page1203---time stop3s\n",
      "page1204---time stop3s\n",
      "page1205---time stop6s\n",
      "page1206---time stop3s\n",
      "page1207---time stop4s\n",
      "page1208---time stop5s\n",
      "page1209---time stop4s\n",
      "page1210---time stop4s\n",
      "page1211---time stop4s\n",
      "page1212---time stop5s\n",
      "page1213---time stop5s\n",
      "page1214---time stop5s\n",
      "page1215---time stop3s\n",
      "page1216---time stop3s\n",
      "page1217---time stop5s\n",
      "page1218---time stop3s\n",
      "page1219---time stop5s\n",
      "page1220---time stop4s\n",
      "page1221---time stop6s\n",
      "page1222---time stop4s\n",
      "page1223---time stop4s\n"
     ]
    },
    {
     "ename": "IndexError",
     "evalue": "list index out of range",
     "output_type": "error",
     "traceback": [
      "\u001b[1;31m---------------------------------------------------------------------------\u001b[0m",
      "\u001b[1;31mIndexError\u001b[0m                                Traceback (most recent call last)",
      "\u001b[1;32m<ipython-input-7-cd0803501fff>\u001b[0m in \u001b[0;36m<module>\u001b[1;34m()\u001b[0m\n\u001b[1;32m----> 1\u001b[1;33m \u001b[0mget_AJ11_trans\u001b[0m\u001b[1;33m(\u001b[0m\u001b[1;36m1200\u001b[0m\u001b[1;33m,\u001b[0m\u001b[1;36m1225\u001b[0m\u001b[1;33m)\u001b[0m\u001b[1;33m\u001b[0m\u001b[0m\n\u001b[0m",
      "\u001b[1;32m<ipython-input-3-bc1c646af1f4>\u001b[0m in \u001b[0;36mget_AJ11_trans\u001b[1;34m(a, n)\u001b[0m\n\u001b[0;32m     32\u001b[0m     \u001b[1;31m#             print(p)\u001b[0m\u001b[1;33m\u001b[0m\u001b[1;33m\u001b[0m\u001b[0m\n\u001b[0;32m     33\u001b[0m                 \u001b[0mproduct\u001b[0m \u001b[1;33m=\u001b[0m \u001b[1;34m'AJ11'\u001b[0m\u001b[1;33m\u001b[0m\u001b[0m\n\u001b[1;32m---> 34\u001b[1;33m                 \u001b[0mamount\u001b[0m \u001b[1;33m=\u001b[0m \u001b[0mdata\u001b[0m\u001b[1;33m[\u001b[0m\u001b[1;34m'ProductActivity'\u001b[0m\u001b[1;33m]\u001b[0m\u001b[1;33m[\u001b[0m\u001b[0mj\u001b[0m\u001b[1;33m]\u001b[0m\u001b[1;33m[\u001b[0m\u001b[1;34m'amount'\u001b[0m\u001b[1;33m]\u001b[0m\u001b[1;33m\u001b[0m\u001b[0m\n\u001b[0m\u001b[0;32m     35\u001b[0m                 \u001b[0mtrans_time\u001b[0m \u001b[1;33m=\u001b[0m \u001b[0mdata\u001b[0m\u001b[1;33m[\u001b[0m\u001b[1;34m'ProductActivity'\u001b[0m\u001b[1;33m]\u001b[0m\u001b[1;33m[\u001b[0m\u001b[0mj\u001b[0m\u001b[1;33m]\u001b[0m\u001b[1;33m[\u001b[0m\u001b[1;34m'createdAt'\u001b[0m\u001b[1;33m]\u001b[0m\u001b[1;33m\u001b[0m\u001b[0m\n\u001b[0;32m     36\u001b[0m                 \u001b[0msize\u001b[0m \u001b[1;33m=\u001b[0m \u001b[0mdata\u001b[0m\u001b[1;33m[\u001b[0m\u001b[1;34m'ProductActivity'\u001b[0m\u001b[1;33m]\u001b[0m\u001b[1;33m[\u001b[0m\u001b[0mj\u001b[0m\u001b[1;33m]\u001b[0m\u001b[1;33m[\u001b[0m\u001b[1;34m'shoeSize'\u001b[0m\u001b[1;33m]\u001b[0m\u001b[1;33m\u001b[0m\u001b[0m\n",
      "\u001b[1;31mIndexError\u001b[0m: list index out of range"
     ]
    }
   ],
   "source": [
    "get_AJ11_trans(1200,1225)"
   ]
  },
  {
   "cell_type": "code",
   "execution_count": 114,
   "metadata": {},
   "outputs": [
    {
     "name": "stdout",
     "output_type": "stream",
     "text": [
      "page1---list1\n"
     ]
    }
   ],
   "source": [
    "i =1 \n",
    "j=1\n",
    "print(\"page\"+str(i)+\"---\"+\"list\"+str(j))\n"
   ]
  },
  {
   "cell_type": "code",
   "execution_count": 88,
   "metadata": {},
   "outputs": [
    {
     "data": {
      "text/plain": [
       "'2019-11-16T02:07:32+00:00'"
      ]
     },
     "execution_count": 88,
     "metadata": {},
     "output_type": "execute_result"
    }
   ],
   "source": []
  },
  {
   "cell_type": "code",
   "execution_count": 122,
   "metadata": {},
   "outputs": [],
   "source": []
  },
  {
   "cell_type": "code",
   "execution_count": 110,
   "metadata": {},
   "outputs": [
    {
     "data": {
      "text/plain": [
       "9"
      ]
     },
     "execution_count": 110,
     "metadata": {},
     "output_type": "execute_result"
    }
   ],
   "source": []
  },
  {
   "cell_type": "code",
   "execution_count": null,
   "metadata": {},
   "outputs": [],
   "source": []
  }
 ],
 "metadata": {
  "kernelspec": {
   "display_name": "Python 3",
   "language": "python",
   "name": "python3"
  },
  "language_info": {
   "codemirror_mode": {
    "name": "ipython",
    "version": 3
   },
   "file_extension": ".py",
   "mimetype": "text/x-python",
   "name": "python",
   "nbconvert_exporter": "python",
   "pygments_lexer": "ipython3",
   "version": "3.6.5"
  }
 },
 "nbformat": 4,
 "nbformat_minor": 2
}
